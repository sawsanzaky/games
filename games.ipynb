{
 "cells": [
  {
   "cell_type": "code",
   "execution_count": 1,
   "metadata": {},
   "outputs": [],
   "source": [
    "import  turtle\n",
    "import random\n",
    "screen=turtle.getscreen()   # علشان نعمل خلفيه  نخلق كيا ن \n",
    "#screen.bgcolor(\"red\") #background \n",
    "#screen.bgpic(\"s.gif\")\n",
    "#screen.bgpic(\"f.jpg\")\n",
    "screen.setup(800,500)\n",
    "superman=turtle.Turtle()\n",
    "superman.shape('turtle')\n",
    "#superman.hideturtle()\n",
    "superman.up()\n",
    "superman.goto(10,-370)\n",
    "superman.down()\n",
    "size=40\n",
    "superman.speed(0)\n",
    "colors=['red','blue','yellow','green','cyan','purple','pink','orange']\n",
    "for circle in range(100):\n",
    "    superman.color(random.choice(colors))\n",
    "    superman.circle(size)\n",
    "    size=size+5\n"
   ]
  },
  {
   "cell_type": "code",
   "execution_count": null,
   "metadata": {},
   "outputs": [],
   "source": []
  }
 ],
 "metadata": {
  "kernelspec": {
   "display_name": "Python 3",
   "language": "python",
   "name": "python3"
  },
  "language_info": {
   "codemirror_mode": {
    "name": "ipython",
    "version": 3
   },
   "file_extension": ".py",
   "mimetype": "text/x-python",
   "name": "python",
   "nbconvert_exporter": "python",
   "pygments_lexer": "ipython3",
   "version": "3.8.5"
  }
 },
 "nbformat": 4,
 "nbformat_minor": 4
}
